{
 "cells": [
  {
   "cell_type": "code",
   "execution_count": null,
   "metadata": {},
   "outputs": [],
   "source": [
    "import warnings\n",
    "warnings.simplefilter('ignore', ResourceWarning)\n",
    "warnings.simplefilter('ignore', UserWarning)\n",
    "import nilearn\n",
    "from nilearn import plotting, datasets\n",
    "import nibabel as nib\n",
    "import matplotlib.pyplot as plt\n",
    "import matplotlib.colors as colors\n",
    "import numpy as np"
   ]
  },
  {
   "cell_type": "code",
   "execution_count": null,
   "metadata": {},
   "outputs": [],
   "source": [
    "def truncate_colormap(cmap, minval=0.0, maxval=1.0, n=100):\n",
    "    new_cmap = colors.LinearSegmentedColormap.from_list(\n",
    "        'trunc({n},{a:.2f},{b:.2f})'.format(n=cmap.name, a=minval, b=maxval),\n",
    "        cmap(np.linspace(minval, maxval, n)))\n",
    "    return new_cmap"
   ]
  },
  {
   "cell_type": "code",
   "execution_count": null,
   "metadata": {},
   "outputs": [],
   "source": [
    "fsaverage = datasets.fetch_surf_fsaverage('fsaverage5')"
   ]
  },
  {
   "cell_type": "code",
   "execution_count": null,
   "metadata": {},
   "outputs": [],
   "source": [
    "hemis = ['left', 'right']\n",
    "views = ['posterior']"
   ]
  },
  {
   "cell_type": "markdown",
   "metadata": {},
   "source": [
    "# Plotting Model Similarity"
   ]
  },
  {
   "cell_type": "code",
   "execution_count": null,
   "metadata": {},
   "outputs": [],
   "source": [
    "cmap = plt.get_cmap('cool')\n",
    "vis_cmap = truncate_colormap(cmap, 0.15, 0.2)"
   ]
  },
  {
   "cell_type": "code",
   "execution_count": null,
   "metadata": {},
   "outputs": [],
   "source": [
    "!fslmaths brains/vissim36/vissimfish_pearson_func_r2__clusterm_corrp_tstat1.nii.gz -thr 0.95 -bin brains/vissim36/vissim_cluster.nii.gz\n",
    "!fslmaths brains/vissim36/vissim_cluster.nii.gz -mul brains/vissim36/vissimfish_pearson_func_r2__tstat1.nii.gz \\\n",
    "    brains/vissim36/vissim_thresh.nii.gz\n",
    "\n",
    "clustMap = nib.load('brains/vissim36/vissim_thresh.nii.gz')\n",
    "\n",
    "plotting.view_img_on_surf(clustMap, surf_mesh=fsaverage, threshold=0.1, cmap=vis_cmap)\n",
    "\n"
   ]
  },
  {
   "cell_type": "code",
   "execution_count": null,
   "metadata": {},
   "outputs": [],
   "source": [
    "for hemi in hemis:\n",
    "    for view in views:\n",
    "        tex1 = nilearn.surface.vol_to_surf(clustMap, fsaverage['pial_{}'.format(hemi)])\n",
    "\n",
    "        im = plotting.plot_surf_stat_map(fsaverage['pial_{}'.format(hemi)], tex1, cmap=vis_cmap, \n",
    "                                         hemi=hemi, view=view, colorbar=True, \n",
    "                                         bg_map=fsaverage['sulc_{}'.format(hemi)], \n",
    "                                         threshold=0.1, bg_on_data=True,\n",
    "                                         output_file='figures/vissim36_{}_{}.pdf'.format(hemi, view))"
   ]
  },
  {
   "cell_type": "markdown",
   "metadata": {},
   "source": [
    "##  GL code, to be run in MRIcroGL\n",
    "```python\n",
    "import gl\n",
    "ktime= 100\n",
    "\n",
    "gl.loadimage('mni152')\n",
    "gl.overlayload('vissim_thresh')\n",
    "gl.opacity(0,50)\n",
    "gl.minmax(1, 2.33, 6)\n",
    "gl.colorname(1,'7cool')\n",
    "gl.shaderadjust('boundThresh', 0.35)\n",
    "gl.shaderadjust('edgeThresh', 0.42)\n",
    "gl.shaderadjust('edgeBoundMix',0.05)\n",
    "gl.shaderadjust('colorTemp', 0.8)\n",
    "gl.backcolor(0, 0,0)\n",
    "gl.clipazimuthelevation(0.36, 0, 0)\n",
    "gl.shaderadjust('overlayClip', 1)\n",
    "steps = [0.021, 0.111, 0.201, 0.291, 0.401]\n",
    "thicks = [0.088, 0.088, 0.088, 0.088, 0.598]\n",
    "for x, (step, thick) in enumerate(zip(steps, thicks)):\n",
    "    gl.clipthick(thick)\n",
    "    gl.clipazimuthelevation(step, 180, 180)\n",
    "    gl.wait(ktime)\n",
    "    gl.savebmp(str(x)+'vissim.png')\n",
    "```"
   ]
  },
  {
   "cell_type": "code",
   "execution_count": null,
   "metadata": {},
   "outputs": [],
   "source": [
    "\n",
    "!cluster --in=brains/vissim36/vissim_thresh.nii.gz \\\n",
    "         --thresh=2.33 \\\n",
    "         --oindex=brains/vissim36/vissim_cluster_index \\\n",
    "         --olmax=brains/vissim36/vissim_lmax.txt \\\n",
    "         --osize=brains/vissim36/vissim_cluster_size \\\n",
    "         --mm\n"
   ]
  },
  {
   "cell_type": "markdown",
   "metadata": {},
   "source": [
    "# Plotting NMPH Effect"
   ]
  },
  {
   "cell_type": "code",
   "execution_count": null,
   "metadata": {},
   "outputs": [],
   "source": [
    "cmap = plt.get_cmap('winter')\n",
    "nmph_cmap = truncate_colormap(cmap, 0.9, 0.95)"
   ]
  },
  {
   "cell_type": "code",
   "execution_count": null,
   "metadata": {},
   "outputs": [],
   "source": [
    "!fslmaths brains/polyfish_pearson_stan_r2__clusterm_corrp_tstat1.nii.gz -thr 0.95 -bin brains/nmph_cluster.nii.gz\n",
    "!fslmaths brains/nmph_cluster.nii.gz -mul brains/polyfish_pearson_stan_r2__tstat1.nii.gz brains/nmph_thresh.nii.gz\n",
    "\n",
    "clustMap = nib.load('brains/nmph_thresh.nii.gz')\n",
    "\n",
    "plotting.view_img_on_surf(clustMap, surf_mesh='fsaverage', threshold=0.1, cmap=nmph_cmap)"
   ]
  },
  {
   "cell_type": "code",
   "execution_count": null,
   "metadata": {},
   "outputs": [],
   "source": [
    "views = ['ventral']"
   ]
  },
  {
   "cell_type": "code",
   "execution_count": null,
   "metadata": {},
   "outputs": [],
   "source": [
    "for hemi in hemis:\n",
    "    for view in views:\n",
    "        tex1 = nilearn.surface.vol_to_surf(clustMap, fsaverage['pial_{}'.format(hemi)])\n",
    "\n",
    "        im = plotting.plot_surf_stat_map(fsaverage['pial_{}'.format(hemi)], tex1, cmap=nmph_cmap, \n",
    "                                         hemi=hemi, view=view, colorbar=True, \n",
    "                                         bg_map=fsaverage['sulc_{}'.format(hemi)], \n",
    "                                         threshold=0.1, bg_on_data=True,\n",
    "                                         output_file='figures/nmph_{}_{}.pdf'.format(hemi, view))"
   ]
  },
  {
   "cell_type": "markdown",
   "metadata": {},
   "source": [
    "##  GL code, to be run in MRIcroGL\n",
    "```python\n",
    "import gl\n",
    "ktime= 100\n",
    "\n",
    "gl.loadimage('mni152')\n",
    "gl.overlayload('nmph_thresh')\n",
    "gl.opacity(0,50)\n",
    "gl.minmax(1, 2.33, 6)\n",
    "gl.colorname(1,'1red')\n",
    "gl.shaderadjust('boundThresh', 0.35)\n",
    "gl.shaderadjust('edgeThresh', 0.42)\n",
    "gl.shaderadjust('edgeBoundMix',0.05)\n",
    "gl.shaderadjust('colorTemp', 0.8)\n",
    "gl.backcolor(0, 0,0)\n",
    "gl.colorfromzero(1,1)\n",
    "gl.clipazimuthelevation(0.36, 0, 0)\n",
    "gl.shaderadjust('overlayClip', 1)\n",
    "steps = [0.001, 0.151, 0.301, 0.451, 0.601]\n",
    "thicks = [0.149, 0.149, 0.149, 0.149, 0.398]\n",
    "for x, (step, thick) in enumerate(zip(steps, thicks)):\n",
    "    gl.clipthick(thick)\n",
    "    gl.clipazimuthelevation(step, 180, 180)\n",
    "    gl.wait(ktime)\n",
    "    gl.savebmp(str(x)+'nmph.png')\n",
    "```"
   ]
  },
  {
   "cell_type": "code",
   "execution_count": null,
   "metadata": {},
   "outputs": [],
   "source": [
    "\n",
    "!cluster --in=brains/nmph_thresh.nii.gz \\\n",
    "         --thresh=2.33 \\\n",
    "         --oindex=brains/nmph_cluster_index \\\n",
    "         --olmax=brains/nmph_lmax.txt \\\n",
    "         --osize=brains/nmph_cluster_size \\\n",
    "         --mm\n"
   ]
  },
  {
   "cell_type": "code",
   "execution_count": null,
   "metadata": {},
   "outputs": [],
   "source": []
  }
 ],
 "metadata": {
  "@webio": {
   "lastCommId": null,
   "lastKernelId": null
  },
  "kernelspec": {
   "display_name": "Python 3",
   "language": "python",
   "name": "python3"
  },
  "language_info": {
   "codemirror_mode": {
    "name": "ipython",
    "version": 3
   },
   "file_extension": ".py",
   "mimetype": "text/x-python",
   "name": "python",
   "nbconvert_exporter": "python",
   "pygments_lexer": "ipython3",
   "version": "3.6.10"
  }
 },
 "nbformat": 4,
 "nbformat_minor": 2
}
